{
 "cells": [
  {
   "cell_type": "markdown",
   "id": "d8d71c85",
   "metadata": {},
   "source": [
    "## Data Harvesting\n",
    "This notebook will be used to get the data for the project. I will read in all the seasons individually and write them out to a csv"
   ]
  },
  {
   "cell_type": "code",
   "execution_count": 1,
   "id": "78f53be4",
   "metadata": {},
   "outputs": [],
   "source": [
    "import pybaseball\n",
    "import pandas as pd\n",
    "\n",
    "pybaseball.cache.enable()"
   ]
  },
  {
   "cell_type": "code",
   "execution_count": 2,
   "id": "f94b378d",
   "metadata": {},
   "outputs": [],
   "source": [
    "def scrape_save_data(year):\n",
    "    season_data = pybaseball.statcast(start_dt=f'{year}-01-01', end_dt=f'{year}-12-31')\n",
    "    season_data.to_csv(f\"data/season_{year}.csv\")\n",
    "    print(f'Complete for season {year}.')"
   ]
  },
  {
   "cell_type": "code",
   "execution_count": 3,
   "id": "4dc379d4",
   "metadata": {},
   "outputs": [
    {
     "name": "stdout",
     "output_type": "stream",
     "text": [
      "This is a large query, it may take a moment to complete\n",
      "Skipping offseason dates\n",
      "Skipping offseason dates\n"
     ]
    },
    {
     "name": "stderr",
     "output_type": "stream",
     "text": [
      "100%|██████████| 246/246 [05:34<00:00,  1.36s/it]\n"
     ]
    },
    {
     "name": "stdout",
     "output_type": "stream",
     "text": [
      "Complete for season 2021.\n"
     ]
    }
   ],
   "source": [
    "for year in range(2015, 2023):\n",
    "    scrape_save_data(year)"
   ]
  },
  {
   "cell_type": "code",
   "execution_count": null,
   "id": "42938309",
   "metadata": {},
   "outputs": [],
   "source": []
  }
 ],
 "metadata": {
  "kernelspec": {
   "display_name": "Python 3",
   "language": "python",
   "name": "python3"
  },
  "language_info": {
   "codemirror_mode": {
    "name": "ipython",
    "version": 3
   },
   "file_extension": ".py",
   "mimetype": "text/x-python",
   "name": "python",
   "nbconvert_exporter": "python",
   "pygments_lexer": "ipython3",
   "version": "3.8.8"
  }
 },
 "nbformat": 4,
 "nbformat_minor": 5
}
